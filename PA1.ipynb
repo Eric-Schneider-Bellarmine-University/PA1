{
 "cells": [
  {
   "cell_type": "markdown",
   "id": "95bd1874",
   "metadata": {},
   "source": [
    "# Programming Assignment 1\n",
    "### Eric Schneider\n",
    "##### Version 1\n",
    "##### CS-150 Fall 2021 Semester\n",
    "\n",
    "Prompt the user for two(2) numbers, 1 floating point number and 1 integer number. Then\n",
    "print the sum, difference, product and quotient to the screen. Your interface should look\n",
    "something like this:\n",
    "\n",
    "Enter a floating point number. 44.3\n",
    "\n",
    "Enter an integer. 16\n",
    "\n",
    "The sum is 60.3.\n",
    "\n",
    "The difference is 28.3.\n",
    "\n",
    "The product is 708.8\n",
    "\n",
    "The quotient is 2.768\n",
    "\n",
    "The type for the result is <class ‘float’>"
   ]
  },
  {
   "cell_type": "code",
   "execution_count": 33,
   "id": "7e933377",
   "metadata": {
    "scrolled": true
   },
   "outputs": [
    {
     "name": "stdout",
     "output_type": "stream",
     "text": [
      "Please enter a float point number.3.4\n",
      "Please enter an integer.3\n",
      "The sum of the two numbers is 6.4\n",
      "The difference between the first and second numer is 0.400\n",
      "The product of the two numbers is 10.200\n",
      "The quotient of the first and second number is 1.133\n",
      "The floor quotient of the first and second number is 1.0\n",
      "The remainder of the first number from the second number is 0.400\n",
      "The type of the first number is <class 'float'>. \n",
      "The type of the second number is <class 'int'>. \n",
      "The type for their sum is therefore <class 'float'>.\n"
     ]
    }
   ],
   "source": [
    "num1=float(input('Please enter a float point number.'))\n",
    "num2=int(input('Please enter an integer.'))\n",
    "print(f'The sum of the two numbers is {num1+num2}')\n",
    "print(f'The difference between the first and second numer is {num1-num2:.3f}')\n",
    "print(f'The product of the two numbers is {num1*num2:.3f}')\n",
    "print(f'The quotient of the first and second number is {num1/num2:.3f}')\n",
    "print(f'The floor quotient of the first and second number is {num1//num2}')\n",
    "print(f'The remainder of the first number from the second number is {num1%num2:.3f}')\n",
    "print(f'The type of the first number is {type(num1)}. \\nThe type of the second number is {type(num2)}. \\nThe type for their sum is therefore {type(num1+num2)}.')"
   ]
  },
  {
   "cell_type": "code",
   "execution_count": null,
   "id": "cda22df3",
   "metadata": {},
   "outputs": [],
   "source": []
  },
  {
   "cell_type": "code",
   "execution_count": null,
   "id": "7df9861c",
   "metadata": {},
   "outputs": [],
   "source": []
  }
 ],
 "metadata": {
  "kernelspec": {
   "display_name": "Python 3",
   "language": "python",
   "name": "python3"
  },
  "language_info": {
   "codemirror_mode": {
    "name": "ipython",
    "version": 3
   },
   "file_extension": ".py",
   "mimetype": "text/x-python",
   "name": "python",
   "nbconvert_exporter": "python",
   "pygments_lexer": "ipython3",
   "version": "3.8.8"
  }
 },
 "nbformat": 4,
 "nbformat_minor": 5
}
